{
 "cells": [
  {
   "cell_type": "code",
   "execution_count": 1,
   "id": "fc49d3d1",
   "metadata": {},
   "outputs": [],
   "source": [
    "import pandas as pd\n",
    "import numpy as np\n",
    "import matplotlib.pyplot as plt\n",
    "import seaborn as sns\n",
    "from datetime import datetime, timedelta"
   ]
  },
  {
   "cell_type": "markdown",
   "id": "c253c38a",
   "metadata": {},
   "source": [
    "### Import Files"
   ]
  },
  {
   "cell_type": "code",
   "execution_count": 2,
   "id": "8ae57d1e",
   "metadata": {},
   "outputs": [],
   "source": [
    "customers = pd.read_csv(\"dataset/customers.csv\")\n",
    "purchases = pd.read_csv(\"dataset/purchases.csv\")"
   ]
  },
  {
   "cell_type": "markdown",
   "id": "14246caa",
   "metadata": {},
   "source": [
    "### Data description"
   ]
  },
  {
   "cell_type": "code",
   "execution_count": 3,
   "id": "d459f4e5",
   "metadata": {},
   "outputs": [
    {
     "data": {
      "text/html": [
       "<div>\n",
       "<style scoped>\n",
       "    .dataframe tbody tr th:only-of-type {\n",
       "        vertical-align: middle;\n",
       "    }\n",
       "\n",
       "    .dataframe tbody tr th {\n",
       "        vertical-align: top;\n",
       "    }\n",
       "\n",
       "    .dataframe thead th {\n",
       "        text-align: right;\n",
       "    }\n",
       "</style>\n",
       "<table border=\"1\" class=\"dataframe\">\n",
       "  <thead>\n",
       "    <tr style=\"text-align: right;\">\n",
       "      <th></th>\n",
       "      <th>customer_id</th>\n",
       "      <th>signup_date</th>\n",
       "      <th>last_purchase_date</th>\n",
       "    </tr>\n",
       "  </thead>\n",
       "  <tbody>\n",
       "    <tr>\n",
       "      <th>0</th>\n",
       "      <td>1</td>\n",
       "      <td>2020-08-07 17:19:21.301080</td>\n",
       "      <td>2022-12-07 17:19:21.301080</td>\n",
       "    </tr>\n",
       "    <tr>\n",
       "      <th>1</th>\n",
       "      <td>2</td>\n",
       "      <td>2019-09-09 17:19:21.306459</td>\n",
       "      <td>2021-04-08 17:19:21.306459</td>\n",
       "    </tr>\n",
       "    <tr>\n",
       "      <th>2</th>\n",
       "      <td>3</td>\n",
       "      <td>2021-04-30 17:19:21.306478</td>\n",
       "      <td>2021-07-13 17:19:21.306478</td>\n",
       "    </tr>\n",
       "    <tr>\n",
       "      <th>3</th>\n",
       "      <td>4</td>\n",
       "      <td>2020-02-21 17:19:21.306481</td>\n",
       "      <td>2021-04-30 17:19:21.306481</td>\n",
       "    </tr>\n",
       "    <tr>\n",
       "      <th>4</th>\n",
       "      <td>5</td>\n",
       "      <td>2020-08-03 17:19:21.306484</td>\n",
       "      <td>2020-11-13 17:19:21.306484</td>\n",
       "    </tr>\n",
       "  </tbody>\n",
       "</table>\n",
       "</div>"
      ],
      "text/plain": [
       "   customer_id                 signup_date          last_purchase_date\n",
       "0            1  2020-08-07 17:19:21.301080  2022-12-07 17:19:21.301080\n",
       "1            2  2019-09-09 17:19:21.306459  2021-04-08 17:19:21.306459\n",
       "2            3  2021-04-30 17:19:21.306478  2021-07-13 17:19:21.306478\n",
       "3            4  2020-02-21 17:19:21.306481  2021-04-30 17:19:21.306481\n",
       "4            5  2020-08-03 17:19:21.306484  2020-11-13 17:19:21.306484"
      ]
     },
     "execution_count": 3,
     "metadata": {},
     "output_type": "execute_result"
    }
   ],
   "source": [
    "customers.head()"
   ]
  },
  {
   "cell_type": "code",
   "execution_count": 4,
   "id": "700fd6ba",
   "metadata": {},
   "outputs": [
    {
     "data": {
      "text/html": [
       "<div>\n",
       "<style scoped>\n",
       "    .dataframe tbody tr th:only-of-type {\n",
       "        vertical-align: middle;\n",
       "    }\n",
       "\n",
       "    .dataframe tbody tr th {\n",
       "        vertical-align: top;\n",
       "    }\n",
       "\n",
       "    .dataframe thead th {\n",
       "        text-align: right;\n",
       "    }\n",
       "</style>\n",
       "<table border=\"1\" class=\"dataframe\">\n",
       "  <thead>\n",
       "    <tr style=\"text-align: right;\">\n",
       "      <th></th>\n",
       "      <th>purchase_id</th>\n",
       "      <th>customer_id</th>\n",
       "      <th>item</th>\n",
       "      <th>amount</th>\n",
       "    </tr>\n",
       "  </thead>\n",
       "  <tbody>\n",
       "    <tr>\n",
       "      <th>0</th>\n",
       "      <td>1</td>\n",
       "      <td>135</td>\n",
       "      <td>Pulsa GiffGaff</td>\n",
       "      <td>364000.0</td>\n",
       "    </tr>\n",
       "    <tr>\n",
       "      <th>1</th>\n",
       "      <td>2</td>\n",
       "      <td>326</td>\n",
       "      <td>Pulsa GiffGaff</td>\n",
       "      <td>167000.0</td>\n",
       "    </tr>\n",
       "    <tr>\n",
       "      <th>2</th>\n",
       "      <td>3</td>\n",
       "      <td>668</td>\n",
       "      <td>Payment PLN</td>\n",
       "      <td>85000.0</td>\n",
       "    </tr>\n",
       "    <tr>\n",
       "      <th>3</th>\n",
       "      <td>4</td>\n",
       "      <td>719</td>\n",
       "      <td>Topup E-money</td>\n",
       "      <td>429000.0</td>\n",
       "    </tr>\n",
       "    <tr>\n",
       "      <th>4</th>\n",
       "      <td>5</td>\n",
       "      <td>772</td>\n",
       "      <td>Pulsa GiffGaff</td>\n",
       "      <td>277000.0</td>\n",
       "    </tr>\n",
       "  </tbody>\n",
       "</table>\n",
       "</div>"
      ],
      "text/plain": [
       "   purchase_id  customer_id            item    amount\n",
       "0            1          135  Pulsa GiffGaff  364000.0\n",
       "1            2          326  Pulsa GiffGaff  167000.0\n",
       "2            3          668     Payment PLN   85000.0\n",
       "3            4          719   Topup E-money  429000.0\n",
       "4            5          772  Pulsa GiffGaff  277000.0"
      ]
     },
     "execution_count": 4,
     "metadata": {},
     "output_type": "execute_result"
    }
   ],
   "source": [
    "purchases.head()"
   ]
  },
  {
   "cell_type": "code",
   "execution_count": 5,
   "id": "9a7553a2",
   "metadata": {},
   "outputs": [
    {
     "data": {
      "text/html": [
       "<div>\n",
       "<style scoped>\n",
       "    .dataframe tbody tr th:only-of-type {\n",
       "        vertical-align: middle;\n",
       "    }\n",
       "\n",
       "    .dataframe tbody tr th {\n",
       "        vertical-align: top;\n",
       "    }\n",
       "\n",
       "    .dataframe thead th {\n",
       "        text-align: right;\n",
       "    }\n",
       "</style>\n",
       "<table border=\"1\" class=\"dataframe\">\n",
       "  <thead>\n",
       "    <tr style=\"text-align: right;\">\n",
       "      <th></th>\n",
       "      <th>customer_id</th>\n",
       "    </tr>\n",
       "  </thead>\n",
       "  <tbody>\n",
       "    <tr>\n",
       "      <th>count</th>\n",
       "      <td>1000.000000</td>\n",
       "    </tr>\n",
       "    <tr>\n",
       "      <th>mean</th>\n",
       "      <td>500.500000</td>\n",
       "    </tr>\n",
       "    <tr>\n",
       "      <th>std</th>\n",
       "      <td>288.819436</td>\n",
       "    </tr>\n",
       "    <tr>\n",
       "      <th>min</th>\n",
       "      <td>1.000000</td>\n",
       "    </tr>\n",
       "    <tr>\n",
       "      <th>25%</th>\n",
       "      <td>250.750000</td>\n",
       "    </tr>\n",
       "    <tr>\n",
       "      <th>50%</th>\n",
       "      <td>500.500000</td>\n",
       "    </tr>\n",
       "    <tr>\n",
       "      <th>75%</th>\n",
       "      <td>750.250000</td>\n",
       "    </tr>\n",
       "    <tr>\n",
       "      <th>max</th>\n",
       "      <td>1000.000000</td>\n",
       "    </tr>\n",
       "  </tbody>\n",
       "</table>\n",
       "</div>"
      ],
      "text/plain": [
       "       customer_id\n",
       "count  1000.000000\n",
       "mean    500.500000\n",
       "std     288.819436\n",
       "min       1.000000\n",
       "25%     250.750000\n",
       "50%     500.500000\n",
       "75%     750.250000\n",
       "max    1000.000000"
      ]
     },
     "execution_count": 5,
     "metadata": {},
     "output_type": "execute_result"
    }
   ],
   "source": [
    "customers.describe()"
   ]
  },
  {
   "cell_type": "code",
   "execution_count": 6,
   "id": "086fdff9",
   "metadata": {},
   "outputs": [
    {
     "data": {
      "text/html": [
       "<div>\n",
       "<style scoped>\n",
       "    .dataframe tbody tr th:only-of-type {\n",
       "        vertical-align: middle;\n",
       "    }\n",
       "\n",
       "    .dataframe tbody tr th {\n",
       "        vertical-align: top;\n",
       "    }\n",
       "\n",
       "    .dataframe thead th {\n",
       "        text-align: right;\n",
       "    }\n",
       "</style>\n",
       "<table border=\"1\" class=\"dataframe\">\n",
       "  <thead>\n",
       "    <tr style=\"text-align: right;\">\n",
       "      <th></th>\n",
       "      <th>purchase_id</th>\n",
       "      <th>customer_id</th>\n",
       "      <th>amount</th>\n",
       "    </tr>\n",
       "  </thead>\n",
       "  <tbody>\n",
       "    <tr>\n",
       "      <th>count</th>\n",
       "      <td>5000.000000</td>\n",
       "      <td>5000.000000</td>\n",
       "      <td>5000.000000</td>\n",
       "    </tr>\n",
       "    <tr>\n",
       "      <th>mean</th>\n",
       "      <td>2500.500000</td>\n",
       "      <td>504.562400</td>\n",
       "      <td>251067.600000</td>\n",
       "    </tr>\n",
       "    <tr>\n",
       "      <th>std</th>\n",
       "      <td>1443.520003</td>\n",
       "      <td>289.353633</td>\n",
       "      <td>143698.679508</td>\n",
       "    </tr>\n",
       "    <tr>\n",
       "      <th>min</th>\n",
       "      <td>1.000000</td>\n",
       "      <td>1.000000</td>\n",
       "      <td>1000.000000</td>\n",
       "    </tr>\n",
       "    <tr>\n",
       "      <th>25%</th>\n",
       "      <td>1250.750000</td>\n",
       "      <td>257.000000</td>\n",
       "      <td>122000.000000</td>\n",
       "    </tr>\n",
       "    <tr>\n",
       "      <th>50%</th>\n",
       "      <td>2500.500000</td>\n",
       "      <td>506.000000</td>\n",
       "      <td>253500.000000</td>\n",
       "    </tr>\n",
       "    <tr>\n",
       "      <th>75%</th>\n",
       "      <td>3750.250000</td>\n",
       "      <td>758.000000</td>\n",
       "      <td>373000.000000</td>\n",
       "    </tr>\n",
       "    <tr>\n",
       "      <th>max</th>\n",
       "      <td>5000.000000</td>\n",
       "      <td>1000.000000</td>\n",
       "      <td>500000.000000</td>\n",
       "    </tr>\n",
       "  </tbody>\n",
       "</table>\n",
       "</div>"
      ],
      "text/plain": [
       "       purchase_id  customer_id         amount\n",
       "count  5000.000000  5000.000000    5000.000000\n",
       "mean   2500.500000   504.562400  251067.600000\n",
       "std    1443.520003   289.353633  143698.679508\n",
       "min       1.000000     1.000000    1000.000000\n",
       "25%    1250.750000   257.000000  122000.000000\n",
       "50%    2500.500000   506.000000  253500.000000\n",
       "75%    3750.250000   758.000000  373000.000000\n",
       "max    5000.000000  1000.000000  500000.000000"
      ]
     },
     "execution_count": 6,
     "metadata": {},
     "output_type": "execute_result"
    }
   ],
   "source": [
    "purchases.describe()"
   ]
  },
  {
   "cell_type": "markdown",
   "id": "708cfe3b",
   "metadata": {},
   "source": [
    "There are a total of 5000 unique purchases and 1000 unique customers from the data. "
   ]
  },
  {
   "cell_type": "code",
   "execution_count": 7,
   "id": "23f92cb1",
   "metadata": {},
   "outputs": [
    {
     "data": {
      "text/plain": [
       "customer_id            int64\n",
       "signup_date           object\n",
       "last_purchase_date    object\n",
       "dtype: object"
      ]
     },
     "execution_count": 7,
     "metadata": {},
     "output_type": "execute_result"
    }
   ],
   "source": [
    "customers.dtypes"
   ]
  },
  {
   "cell_type": "markdown",
   "id": "43e2ee1b",
   "metadata": {},
   "source": [
    "`signup_date` and `last_purchase_date` needed to be changed into datetime."
   ]
  },
  {
   "cell_type": "markdown",
   "id": "732b0b1e",
   "metadata": {},
   "source": [
    "### 1. Write a Python script to calculate the average time (in days) between the signup date and last purchase date for all customers."
   ]
  },
  {
   "cell_type": "markdown",
   "id": "a8d90462",
   "metadata": {},
   "source": [
    "`signup_date` and `last_purchase_date` needed to be converted first to datetime data type so we could calculate the time_diff in days."
   ]
  },
  {
   "cell_type": "code",
   "execution_count": 8,
   "id": "cb3a99e7",
   "metadata": {},
   "outputs": [
    {
     "data": {
      "text/plain": [
       "customer_id                    int64\n",
       "signup_date           datetime64[ns]\n",
       "last_purchase_date    datetime64[ns]\n",
       "dtype: object"
      ]
     },
     "execution_count": 8,
     "metadata": {},
     "output_type": "execute_result"
    }
   ],
   "source": [
    "customers = customers.astype({'last_purchase_date': np.datetime64, 'signup_date': np.datetime64})\n",
    "customers.dtypes"
   ]
  },
  {
   "cell_type": "code",
   "execution_count": 9,
   "id": "13eaf6ea",
   "metadata": {},
   "outputs": [
    {
     "data": {
      "text/html": [
       "<div>\n",
       "<style scoped>\n",
       "    .dataframe tbody tr th:only-of-type {\n",
       "        vertical-align: middle;\n",
       "    }\n",
       "\n",
       "    .dataframe tbody tr th {\n",
       "        vertical-align: top;\n",
       "    }\n",
       "\n",
       "    .dataframe thead th {\n",
       "        text-align: right;\n",
       "    }\n",
       "</style>\n",
       "<table border=\"1\" class=\"dataframe\">\n",
       "  <thead>\n",
       "    <tr style=\"text-align: right;\">\n",
       "      <th></th>\n",
       "      <th>customer_id</th>\n",
       "      <th>signup_date</th>\n",
       "      <th>last_purchase_date</th>\n",
       "      <th>time_diff</th>\n",
       "    </tr>\n",
       "  </thead>\n",
       "  <tbody>\n",
       "    <tr>\n",
       "      <th>0</th>\n",
       "      <td>1</td>\n",
       "      <td>2020-08-07 17:19:21.301080</td>\n",
       "      <td>2022-12-07 17:19:21.301080</td>\n",
       "      <td>852 days</td>\n",
       "    </tr>\n",
       "    <tr>\n",
       "      <th>1</th>\n",
       "      <td>2</td>\n",
       "      <td>2019-09-09 17:19:21.306459</td>\n",
       "      <td>2021-04-08 17:19:21.306459</td>\n",
       "      <td>577 days</td>\n",
       "    </tr>\n",
       "    <tr>\n",
       "      <th>2</th>\n",
       "      <td>3</td>\n",
       "      <td>2021-04-30 17:19:21.306478</td>\n",
       "      <td>2021-07-13 17:19:21.306478</td>\n",
       "      <td>74 days</td>\n",
       "    </tr>\n",
       "    <tr>\n",
       "      <th>3</th>\n",
       "      <td>4</td>\n",
       "      <td>2020-02-21 17:19:21.306481</td>\n",
       "      <td>2021-04-30 17:19:21.306481</td>\n",
       "      <td>434 days</td>\n",
       "    </tr>\n",
       "    <tr>\n",
       "      <th>4</th>\n",
       "      <td>5</td>\n",
       "      <td>2020-08-03 17:19:21.306484</td>\n",
       "      <td>2020-11-13 17:19:21.306484</td>\n",
       "      <td>102 days</td>\n",
       "    </tr>\n",
       "    <tr>\n",
       "      <th>...</th>\n",
       "      <td>...</td>\n",
       "      <td>...</td>\n",
       "      <td>...</td>\n",
       "      <td>...</td>\n",
       "    </tr>\n",
       "    <tr>\n",
       "      <th>995</th>\n",
       "      <td>996</td>\n",
       "      <td>2022-08-03 17:19:21.308892</td>\n",
       "      <td>2022-11-27 17:19:21.308892</td>\n",
       "      <td>116 days</td>\n",
       "    </tr>\n",
       "    <tr>\n",
       "      <th>996</th>\n",
       "      <td>997</td>\n",
       "      <td>2021-12-23 17:19:21.308894</td>\n",
       "      <td>2023-01-12 17:19:21.308894</td>\n",
       "      <td>385 days</td>\n",
       "    </tr>\n",
       "    <tr>\n",
       "      <th>997</th>\n",
       "      <td>998</td>\n",
       "      <td>2021-08-02 17:19:21.308896</td>\n",
       "      <td>2022-07-11 17:19:21.308896</td>\n",
       "      <td>343 days</td>\n",
       "    </tr>\n",
       "    <tr>\n",
       "      <th>998</th>\n",
       "      <td>999</td>\n",
       "      <td>2020-01-20 17:19:21.308898</td>\n",
       "      <td>2021-08-25 17:19:21.308898</td>\n",
       "      <td>583 days</td>\n",
       "    </tr>\n",
       "    <tr>\n",
       "      <th>999</th>\n",
       "      <td>1000</td>\n",
       "      <td>2021-03-03 17:19:21.308900</td>\n",
       "      <td>2022-04-01 17:19:21.308900</td>\n",
       "      <td>394 days</td>\n",
       "    </tr>\n",
       "  </tbody>\n",
       "</table>\n",
       "<p>1000 rows × 4 columns</p>\n",
       "</div>"
      ],
      "text/plain": [
       "     customer_id                signup_date         last_purchase_date  \\\n",
       "0              1 2020-08-07 17:19:21.301080 2022-12-07 17:19:21.301080   \n",
       "1              2 2019-09-09 17:19:21.306459 2021-04-08 17:19:21.306459   \n",
       "2              3 2021-04-30 17:19:21.306478 2021-07-13 17:19:21.306478   \n",
       "3              4 2020-02-21 17:19:21.306481 2021-04-30 17:19:21.306481   \n",
       "4              5 2020-08-03 17:19:21.306484 2020-11-13 17:19:21.306484   \n",
       "..           ...                        ...                        ...   \n",
       "995          996 2022-08-03 17:19:21.308892 2022-11-27 17:19:21.308892   \n",
       "996          997 2021-12-23 17:19:21.308894 2023-01-12 17:19:21.308894   \n",
       "997          998 2021-08-02 17:19:21.308896 2022-07-11 17:19:21.308896   \n",
       "998          999 2020-01-20 17:19:21.308898 2021-08-25 17:19:21.308898   \n",
       "999         1000 2021-03-03 17:19:21.308900 2022-04-01 17:19:21.308900   \n",
       "\n",
       "    time_diff  \n",
       "0    852 days  \n",
       "1    577 days  \n",
       "2     74 days  \n",
       "3    434 days  \n",
       "4    102 days  \n",
       "..        ...  \n",
       "995  116 days  \n",
       "996  385 days  \n",
       "997  343 days  \n",
       "998  583 days  \n",
       "999  394 days  \n",
       "\n",
       "[1000 rows x 4 columns]"
      ]
     },
     "execution_count": 9,
     "metadata": {},
     "output_type": "execute_result"
    }
   ],
   "source": [
    "customers[\"time_diff\"] = customers[\"last_purchase_date\"] - customers[\"signup_date\"]\n",
    "customers"
   ]
  },
  {
   "cell_type": "code",
   "execution_count": 10,
   "id": "924df182",
   "metadata": {},
   "outputs": [
    {
     "data": {
      "text/plain": [
       "Timedelta('474 days 23:12:28.800000')"
      ]
     },
     "execution_count": 10,
     "metadata": {},
     "output_type": "execute_result"
    }
   ],
   "source": [
    "customers[\"time_diff\"].mean()"
   ]
  },
  {
   "cell_type": "markdown",
   "id": "dca9c600",
   "metadata": {},
   "source": [
    "Average customer has **474 days** between sign up date and last purchase date."
   ]
  },
  {
   "cell_type": "markdown",
   "id": "44957414",
   "metadata": {},
   "source": [
    "### 2. Using Python, identify any customers who have not made a purchase in the last 90 days and create a list of these customers. Also, suggest a specific product for them to be applied promos to."
   ]
  },
  {
   "cell_type": "code",
   "execution_count": 11,
   "id": "bf1d22bd",
   "metadata": {
    "scrolled": false
   },
   "outputs": [
    {
     "data": {
      "text/html": [
       "<div>\n",
       "<style scoped>\n",
       "    .dataframe tbody tr th:only-of-type {\n",
       "        vertical-align: middle;\n",
       "    }\n",
       "\n",
       "    .dataframe tbody tr th {\n",
       "        vertical-align: top;\n",
       "    }\n",
       "\n",
       "    .dataframe thead th {\n",
       "        text-align: right;\n",
       "    }\n",
       "</style>\n",
       "<table border=\"1\" class=\"dataframe\">\n",
       "  <thead>\n",
       "    <tr style=\"text-align: right;\">\n",
       "      <th></th>\n",
       "      <th>customer_id</th>\n",
       "      <th>signup_date</th>\n",
       "      <th>last_purchase_date</th>\n",
       "      <th>time_diff</th>\n",
       "    </tr>\n",
       "  </thead>\n",
       "  <tbody>\n",
       "    <tr>\n",
       "      <th>0</th>\n",
       "      <td>1</td>\n",
       "      <td>2020-08-07 17:19:21.301080</td>\n",
       "      <td>2022-12-07 17:19:21.301080</td>\n",
       "      <td>852 days</td>\n",
       "    </tr>\n",
       "    <tr>\n",
       "      <th>1</th>\n",
       "      <td>2</td>\n",
       "      <td>2019-09-09 17:19:21.306459</td>\n",
       "      <td>2021-04-08 17:19:21.306459</td>\n",
       "      <td>577 days</td>\n",
       "    </tr>\n",
       "    <tr>\n",
       "      <th>2</th>\n",
       "      <td>3</td>\n",
       "      <td>2021-04-30 17:19:21.306478</td>\n",
       "      <td>2021-07-13 17:19:21.306478</td>\n",
       "      <td>74 days</td>\n",
       "    </tr>\n",
       "    <tr>\n",
       "      <th>3</th>\n",
       "      <td>4</td>\n",
       "      <td>2020-02-21 17:19:21.306481</td>\n",
       "      <td>2021-04-30 17:19:21.306481</td>\n",
       "      <td>434 days</td>\n",
       "    </tr>\n",
       "    <tr>\n",
       "      <th>4</th>\n",
       "      <td>5</td>\n",
       "      <td>2020-08-03 17:19:21.306484</td>\n",
       "      <td>2020-11-13 17:19:21.306484</td>\n",
       "      <td>102 days</td>\n",
       "    </tr>\n",
       "    <tr>\n",
       "      <th>...</th>\n",
       "      <td>...</td>\n",
       "      <td>...</td>\n",
       "      <td>...</td>\n",
       "      <td>...</td>\n",
       "    </tr>\n",
       "    <tr>\n",
       "      <th>995</th>\n",
       "      <td>996</td>\n",
       "      <td>2022-08-03 17:19:21.308892</td>\n",
       "      <td>2022-11-27 17:19:21.308892</td>\n",
       "      <td>116 days</td>\n",
       "    </tr>\n",
       "    <tr>\n",
       "      <th>996</th>\n",
       "      <td>997</td>\n",
       "      <td>2021-12-23 17:19:21.308894</td>\n",
       "      <td>2023-01-12 17:19:21.308894</td>\n",
       "      <td>385 days</td>\n",
       "    </tr>\n",
       "    <tr>\n",
       "      <th>997</th>\n",
       "      <td>998</td>\n",
       "      <td>2021-08-02 17:19:21.308896</td>\n",
       "      <td>2022-07-11 17:19:21.308896</td>\n",
       "      <td>343 days</td>\n",
       "    </tr>\n",
       "    <tr>\n",
       "      <th>998</th>\n",
       "      <td>999</td>\n",
       "      <td>2020-01-20 17:19:21.308898</td>\n",
       "      <td>2021-08-25 17:19:21.308898</td>\n",
       "      <td>583 days</td>\n",
       "    </tr>\n",
       "    <tr>\n",
       "      <th>999</th>\n",
       "      <td>1000</td>\n",
       "      <td>2021-03-03 17:19:21.308900</td>\n",
       "      <td>2022-04-01 17:19:21.308900</td>\n",
       "      <td>394 days</td>\n",
       "    </tr>\n",
       "  </tbody>\n",
       "</table>\n",
       "<p>862 rows × 4 columns</p>\n",
       "</div>"
      ],
      "text/plain": [
       "     customer_id                signup_date         last_purchase_date  \\\n",
       "0              1 2020-08-07 17:19:21.301080 2022-12-07 17:19:21.301080   \n",
       "1              2 2019-09-09 17:19:21.306459 2021-04-08 17:19:21.306459   \n",
       "2              3 2021-04-30 17:19:21.306478 2021-07-13 17:19:21.306478   \n",
       "3              4 2020-02-21 17:19:21.306481 2021-04-30 17:19:21.306481   \n",
       "4              5 2020-08-03 17:19:21.306484 2020-11-13 17:19:21.306484   \n",
       "..           ...                        ...                        ...   \n",
       "995          996 2022-08-03 17:19:21.308892 2022-11-27 17:19:21.308892   \n",
       "996          997 2021-12-23 17:19:21.308894 2023-01-12 17:19:21.308894   \n",
       "997          998 2021-08-02 17:19:21.308896 2022-07-11 17:19:21.308896   \n",
       "998          999 2020-01-20 17:19:21.308898 2021-08-25 17:19:21.308898   \n",
       "999         1000 2021-03-03 17:19:21.308900 2022-04-01 17:19:21.308900   \n",
       "\n",
       "    time_diff  \n",
       "0    852 days  \n",
       "1    577 days  \n",
       "2     74 days  \n",
       "3    434 days  \n",
       "4    102 days  \n",
       "..        ...  \n",
       "995  116 days  \n",
       "996  385 days  \n",
       "997  343 days  \n",
       "998  583 days  \n",
       "999  394 days  \n",
       "\n",
       "[862 rows x 4 columns]"
      ]
     },
     "execution_count": 11,
     "metadata": {},
     "output_type": "execute_result"
    }
   ],
   "source": [
    "# Customers who have not made a purchase in the last 90 days\n",
    "customer_no_90 = customers[customers['last_purchase_date'] <= (datetime.today() + timedelta(days=-90))]\n",
    "customer_no_90"
   ]
  },
  {
   "cell_type": "markdown",
   "id": "0fa22777",
   "metadata": {},
   "source": [
    "The total number of customers who have not made any purchases at all in the last 90 days is found in the DataFrame `customer_no_90`, which contains a list of 824 customers identified by their customer IDs."
   ]
  },
  {
   "cell_type": "markdown",
   "id": "efae825b",
   "metadata": {},
   "source": [
    "Let's find the recommendation item for each customer based on their history of purchases. Usually, this task called by **recommendation system**. There are already many approaches to create recommendation system. We can do the the most simple and generic methods, such as content based and collaborative filtering method. Other more advanced methods could be done if we have more information regarding the purchases and customers, or perhaps more products, such as customer segmentation (give the same recommendation for customers in the same segment), link prediction (predict potential buying by existing purchase history), and sequential pattern (focus on sequence of historical purchases of the customers)."
   ]
  },
  {
   "cell_type": "code",
   "execution_count": 12,
   "id": "991d0870",
   "metadata": {},
   "outputs": [
    {
     "data": {
      "text/plain": [
       "Pulsa GiffGaff    1298\n",
       "Topup E-money     1265\n",
       "Payment PDAM      1235\n",
       "Payment PLN       1202\n",
       "Name: item, dtype: int64"
      ]
     },
     "execution_count": 12,
     "metadata": {},
     "output_type": "execute_result"
    }
   ],
   "source": [
    "# Suggestion\n",
    "purchases['item'].value_counts()"
   ]
  },
  {
   "cell_type": "markdown",
   "id": "543b2f69",
   "metadata": {},
   "source": [
    "There are 4 kinds of items that provided in the data. But there are no information of the items charactersitics, so we can't do the content-based method, but we will do the collaborative filtering instead. Collaborative filtering method is a method that will recommend a customer that is already purchased another similar item with another user, and it will check other items that another user also buy. For example, customer 1 is already bought Payment PLN before, which is already purchased too by customer 2. So, the system will look for other items that has been purchased by customer 2, such as Topup E-money, and recommend it to customer 1. On the other hand, the system will look for other items that has been purchased by customer 1, such as Pulsa GiffGaff, and recommend it to customer 2. \n",
    "\n",
    "To do that, we pivot the table and detailing how many purchases that a customer has been done for each item."
   ]
  },
  {
   "cell_type": "code",
   "execution_count": 13,
   "id": "d8aeef89",
   "metadata": {},
   "outputs": [
    {
     "data": {
      "text/html": [
       "<div>\n",
       "<style scoped>\n",
       "    .dataframe tbody tr th:only-of-type {\n",
       "        vertical-align: middle;\n",
       "    }\n",
       "\n",
       "    .dataframe tbody tr th {\n",
       "        vertical-align: top;\n",
       "    }\n",
       "\n",
       "    .dataframe thead th {\n",
       "        text-align: right;\n",
       "    }\n",
       "</style>\n",
       "<table border=\"1\" class=\"dataframe\">\n",
       "  <thead>\n",
       "    <tr style=\"text-align: right;\">\n",
       "      <th></th>\n",
       "      <th>customer_id</th>\n",
       "      <th>Payment PDAM</th>\n",
       "      <th>Payment PLN</th>\n",
       "      <th>Pulsa GiffGaff</th>\n",
       "      <th>Topup E-money</th>\n",
       "    </tr>\n",
       "  </thead>\n",
       "  <tbody>\n",
       "    <tr>\n",
       "      <th>0</th>\n",
       "      <td>1</td>\n",
       "      <td>0</td>\n",
       "      <td>1</td>\n",
       "      <td>5</td>\n",
       "      <td>0</td>\n",
       "    </tr>\n",
       "    <tr>\n",
       "      <th>1</th>\n",
       "      <td>2</td>\n",
       "      <td>0</td>\n",
       "      <td>1</td>\n",
       "      <td>0</td>\n",
       "      <td>2</td>\n",
       "    </tr>\n",
       "    <tr>\n",
       "      <th>2</th>\n",
       "      <td>3</td>\n",
       "      <td>2</td>\n",
       "      <td>2</td>\n",
       "      <td>0</td>\n",
       "      <td>1</td>\n",
       "    </tr>\n",
       "    <tr>\n",
       "      <th>3</th>\n",
       "      <td>4</td>\n",
       "      <td>1</td>\n",
       "      <td>0</td>\n",
       "      <td>0</td>\n",
       "      <td>0</td>\n",
       "    </tr>\n",
       "    <tr>\n",
       "      <th>4</th>\n",
       "      <td>5</td>\n",
       "      <td>5</td>\n",
       "      <td>3</td>\n",
       "      <td>0</td>\n",
       "      <td>3</td>\n",
       "    </tr>\n",
       "    <tr>\n",
       "      <th>...</th>\n",
       "      <td>...</td>\n",
       "      <td>...</td>\n",
       "      <td>...</td>\n",
       "      <td>...</td>\n",
       "      <td>...</td>\n",
       "    </tr>\n",
       "    <tr>\n",
       "      <th>989</th>\n",
       "      <td>996</td>\n",
       "      <td>1</td>\n",
       "      <td>1</td>\n",
       "      <td>0</td>\n",
       "      <td>1</td>\n",
       "    </tr>\n",
       "    <tr>\n",
       "      <th>990</th>\n",
       "      <td>997</td>\n",
       "      <td>1</td>\n",
       "      <td>0</td>\n",
       "      <td>4</td>\n",
       "      <td>0</td>\n",
       "    </tr>\n",
       "    <tr>\n",
       "      <th>991</th>\n",
       "      <td>998</td>\n",
       "      <td>2</td>\n",
       "      <td>2</td>\n",
       "      <td>2</td>\n",
       "      <td>5</td>\n",
       "    </tr>\n",
       "    <tr>\n",
       "      <th>992</th>\n",
       "      <td>999</td>\n",
       "      <td>1</td>\n",
       "      <td>2</td>\n",
       "      <td>2</td>\n",
       "      <td>2</td>\n",
       "    </tr>\n",
       "    <tr>\n",
       "      <th>993</th>\n",
       "      <td>1000</td>\n",
       "      <td>1</td>\n",
       "      <td>0</td>\n",
       "      <td>1</td>\n",
       "      <td>0</td>\n",
       "    </tr>\n",
       "  </tbody>\n",
       "</table>\n",
       "<p>994 rows × 5 columns</p>\n",
       "</div>"
      ],
      "text/plain": [
       "     customer_id  Payment PDAM  Payment PLN  Pulsa GiffGaff  Topup E-money\n",
       "0              1             0            1               5              0\n",
       "1              2             0            1               0              2\n",
       "2              3             2            2               0              1\n",
       "3              4             1            0               0              0\n",
       "4              5             5            3               0              3\n",
       "..           ...           ...          ...             ...            ...\n",
       "989          996             1            1               0              1\n",
       "990          997             1            0               4              0\n",
       "991          998             2            2               2              5\n",
       "992          999             1            2               2              2\n",
       "993         1000             1            0               1              0\n",
       "\n",
       "[994 rows x 5 columns]"
      ]
     },
     "execution_count": 13,
     "metadata": {},
     "output_type": "execute_result"
    }
   ],
   "source": [
    "purchase_pivoted = pd.pivot_table(purchases, values='purchase_id', index='customer_id', columns='item', aggfunc='count', fill_value=0)\n",
    "\n",
    "# Reset the index to match your desired output\n",
    "purchase_pivoted = purchase_pivoted.reset_index()\n",
    "\n",
    "# Rename the columns\n",
    "purchase_pivoted.columns.name = None\n",
    "purchase_pivoted.columns = ['customer_id','Payment PDAM','Payment PLN', 'Pulsa GiffGaff','Topup E-money']\n",
    "\n",
    "# Display the resulting DataFrame\n",
    "purchase_pivoted"
   ]
  },
  {
   "cell_type": "markdown",
   "id": "1ba25214",
   "metadata": {},
   "source": [
    "To simplify the solution, we summarize the purchase customers that has bought of each item, and determine that the second number of purchases is the item that we will recommend to customers that is already bought a particular item."
   ]
  },
  {
   "cell_type": "code",
   "execution_count": 14,
   "id": "ccf1da39",
   "metadata": {},
   "outputs": [
    {
     "data": {
      "text/plain": [
       "customer_id       362016\n",
       "Payment PDAM         878\n",
       "Payment PLN          874\n",
       "Pulsa GiffGaff      1298\n",
       "Topup E-money        911\n",
       "dtype: int64"
      ]
     },
     "execution_count": 14,
     "metadata": {},
     "output_type": "execute_result"
    }
   ],
   "source": [
    "purchase_pivoted[purchase_pivoted[ 'Pulsa GiffGaff'] >= 1].sum()"
   ]
  },
  {
   "cell_type": "markdown",
   "id": "8cdffe50",
   "metadata": {},
   "source": [
    "For example, for customers that already bought **Pulsa GiffGaff** before, will be recommended **Topup E-money** since it is the second best purchased product by the users by 911 orders."
   ]
  },
  {
   "cell_type": "code",
   "execution_count": 15,
   "id": "3110fcfe",
   "metadata": {},
   "outputs": [
    {
     "data": {
      "text/plain": [
       "customer_id       356529\n",
       "Payment PDAM         875\n",
       "Payment PLN         1202\n",
       "Pulsa GiffGaff       936\n",
       "Topup E-money        912\n",
       "dtype: int64"
      ]
     },
     "execution_count": 15,
     "metadata": {},
     "output_type": "execute_result"
    }
   ],
   "source": [
    "purchase_pivoted[purchase_pivoted[ 'Payment PLN'] >= 1].sum()"
   ]
  },
  {
   "cell_type": "markdown",
   "id": "232439e7",
   "metadata": {},
   "source": [
    "For customers that already bought **Payment PLN** before, will be recommended **Pulsa GiffGaff** since it is the second best purchased product by the users by 936 orders."
   ]
  },
  {
   "cell_type": "code",
   "execution_count": 16,
   "id": "2ad9f384",
   "metadata": {},
   "outputs": [
    {
     "data": {
      "text/plain": [
       "customer_id       360631\n",
       "Payment PDAM        1235\n",
       "Payment PLN          862\n",
       "Pulsa GiffGaff       918\n",
       "Topup E-money        866\n",
       "dtype: int64"
      ]
     },
     "execution_count": 16,
     "metadata": {},
     "output_type": "execute_result"
    }
   ],
   "source": [
    "purchase_pivoted[purchase_pivoted[ 'Payment PDAM'] >= 1].sum()"
   ]
  },
  {
   "cell_type": "markdown",
   "id": "00407a70",
   "metadata": {},
   "source": [
    "For customers that already bought **Payment PDAM** before, will be recommended **Pulsa GiffGaff** since it is the second best purchased product by the users by 918 orders."
   ]
  },
  {
   "cell_type": "code",
   "execution_count": 17,
   "id": "d0db2d8c",
   "metadata": {},
   "outputs": [
    {
     "data": {
      "text/plain": [
       "customer_id       354659\n",
       "Payment PDAM         851\n",
       "Payment PLN          886\n",
       "Pulsa GiffGaff       899\n",
       "Topup E-money       1265\n",
       "dtype: int64"
      ]
     },
     "execution_count": 17,
     "metadata": {},
     "output_type": "execute_result"
    }
   ],
   "source": [
    "purchase_pivoted[purchase_pivoted[ 'Topup E-money'] >= 1].sum()"
   ]
  },
  {
   "cell_type": "markdown",
   "id": "e2f0187c",
   "metadata": {},
   "source": [
    "For customers that already bought **Topup E-money** before, will be recommended **Pulsa GiffGaff** since it is the second best purchased product by the users by 899 orders."
   ]
  },
  {
   "cell_type": "markdown",
   "id": "9d2d1051",
   "metadata": {},
   "source": [
    "Since the solution is too general, in the future we could extend it by considering the combination of 2 kinds of items instead if just condidering 1 items. \n",
    "\n",
    "Sequential pattern also could be considered in recommendation system since there are possibiliities that buying 1 item is leading into buying other particular item or similar item that is called \"causal effect\".\n",
    "\n",
    "Also, other methods is possible to be done if there are additional of information or columns."
   ]
  },
  {
   "cell_type": "markdown",
   "id": "b70dba22",
   "metadata": {},
   "source": [
    "### 3. Using Python, show us a graph on the buying tendency of customers depending on the month they signed up. Make it as informative as possible."
   ]
  },
  {
   "cell_type": "code",
   "execution_count": null,
   "id": "2c19ee21",
   "metadata": {},
   "outputs": [],
   "source": []
  },
  {
   "cell_type": "markdown",
   "id": "a40f65e7",
   "metadata": {},
   "source": [
    "By looking at the correlation betweeen join month and purchase count, it doesn't seem that both of these informations are correlated. Let's see if we break down the purchase count by per item type."
   ]
  },
  {
   "cell_type": "code",
   "execution_count": 18,
   "id": "06a5de54",
   "metadata": {},
   "outputs": [],
   "source": [
    "# Add join month info\n",
    "customers['join_month_year'] = customers['signup_date'].dt.to_period('M')\n",
    "customers['join_quarter_year'] = customers['signup_date'].dt.to_period('Q')"
   ]
  },
  {
   "cell_type": "code",
   "execution_count": 19,
   "id": "6d663da9",
   "metadata": {},
   "outputs": [
    {
     "data": {
      "text/html": [
       "<div>\n",
       "<style scoped>\n",
       "    .dataframe tbody tr th:only-of-type {\n",
       "        vertical-align: middle;\n",
       "    }\n",
       "\n",
       "    .dataframe tbody tr th {\n",
       "        vertical-align: top;\n",
       "    }\n",
       "\n",
       "    .dataframe thead th {\n",
       "        text-align: right;\n",
       "    }\n",
       "</style>\n",
       "<table border=\"1\" class=\"dataframe\">\n",
       "  <thead>\n",
       "    <tr style=\"text-align: right;\">\n",
       "      <th></th>\n",
       "      <th>customer_id</th>\n",
       "      <th>count_purchases</th>\n",
       "      <th>join_month_year</th>\n",
       "      <th>join_quarter_year</th>\n",
       "    </tr>\n",
       "  </thead>\n",
       "  <tbody>\n",
       "    <tr>\n",
       "      <th>0</th>\n",
       "      <td>1</td>\n",
       "      <td>6</td>\n",
       "      <td>2020-08</td>\n",
       "      <td>2020Q3</td>\n",
       "    </tr>\n",
       "    <tr>\n",
       "      <th>1</th>\n",
       "      <td>2</td>\n",
       "      <td>3</td>\n",
       "      <td>2019-09</td>\n",
       "      <td>2019Q3</td>\n",
       "    </tr>\n",
       "    <tr>\n",
       "      <th>2</th>\n",
       "      <td>3</td>\n",
       "      <td>5</td>\n",
       "      <td>2021-04</td>\n",
       "      <td>2021Q2</td>\n",
       "    </tr>\n",
       "    <tr>\n",
       "      <th>3</th>\n",
       "      <td>4</td>\n",
       "      <td>1</td>\n",
       "      <td>2020-02</td>\n",
       "      <td>2020Q1</td>\n",
       "    </tr>\n",
       "    <tr>\n",
       "      <th>4</th>\n",
       "      <td>5</td>\n",
       "      <td>11</td>\n",
       "      <td>2020-08</td>\n",
       "      <td>2020Q3</td>\n",
       "    </tr>\n",
       "    <tr>\n",
       "      <th>...</th>\n",
       "      <td>...</td>\n",
       "      <td>...</td>\n",
       "      <td>...</td>\n",
       "      <td>...</td>\n",
       "    </tr>\n",
       "    <tr>\n",
       "      <th>989</th>\n",
       "      <td>996</td>\n",
       "      <td>3</td>\n",
       "      <td>2022-08</td>\n",
       "      <td>2022Q3</td>\n",
       "    </tr>\n",
       "    <tr>\n",
       "      <th>990</th>\n",
       "      <td>997</td>\n",
       "      <td>5</td>\n",
       "      <td>2021-12</td>\n",
       "      <td>2021Q4</td>\n",
       "    </tr>\n",
       "    <tr>\n",
       "      <th>991</th>\n",
       "      <td>998</td>\n",
       "      <td>11</td>\n",
       "      <td>2021-08</td>\n",
       "      <td>2021Q3</td>\n",
       "    </tr>\n",
       "    <tr>\n",
       "      <th>992</th>\n",
       "      <td>999</td>\n",
       "      <td>7</td>\n",
       "      <td>2020-01</td>\n",
       "      <td>2020Q1</td>\n",
       "    </tr>\n",
       "    <tr>\n",
       "      <th>993</th>\n",
       "      <td>1000</td>\n",
       "      <td>2</td>\n",
       "      <td>2021-03</td>\n",
       "      <td>2021Q1</td>\n",
       "    </tr>\n",
       "  </tbody>\n",
       "</table>\n",
       "<p>994 rows × 4 columns</p>\n",
       "</div>"
      ],
      "text/plain": [
       "     customer_id  count_purchases join_month_year join_quarter_year\n",
       "0              1                6         2020-08            2020Q3\n",
       "1              2                3         2019-09            2019Q3\n",
       "2              3                5         2021-04            2021Q2\n",
       "3              4                1         2020-02            2020Q1\n",
       "4              5               11         2020-08            2020Q3\n",
       "..           ...              ...             ...               ...\n",
       "989          996                3         2022-08            2022Q3\n",
       "990          997                5         2021-12            2021Q4\n",
       "991          998               11         2021-08            2021Q3\n",
       "992          999                7         2020-01            2020Q1\n",
       "993         1000                2         2021-03            2021Q1\n",
       "\n",
       "[994 rows x 4 columns]"
      ]
     },
     "execution_count": 19,
     "metadata": {},
     "output_type": "execute_result"
    }
   ],
   "source": [
    "# Count how many times purchases per customer \n",
    "purchases_per_customer = purchases.groupby('customer_id').count().reset_index()\n",
    "purchases_per_customer = purchases_per_customer[['customer_id','purchase_id']].rename(columns={'purchase_id':'count_purchases'})\n",
    "purchases_per_customer = pd.merge(purchases_per_customer, customers[['customer_id','join_month_year','join_quarter_year']], on='customer_id', how='inner')\n",
    "purchases_per_customer"
   ]
  },
  {
   "cell_type": "code",
   "execution_count": 20,
   "id": "be99c2c6",
   "metadata": {},
   "outputs": [],
   "source": [
    "# Group by 'join_month_year' or 'join_quarter_year' and calculate the sum of 'count_purchases'\n",
    "monthly_purchases = purchases_per_customer.groupby('join_month_year')['count_purchases'].sum()\n",
    "quarterly_purchases = purchases_per_customer.groupby('join_quarter_year')['count_purchases'].sum()"
   ]
  },
  {
   "cell_type": "code",
   "execution_count": 21,
   "id": "a00e277c",
   "metadata": {},
   "outputs": [
    {
     "data": {
      "image/png": "[encoded data removed]",
      "text/plain": [
       "<Figure size 1000x600 with 1 Axes>"
      ]
     },
     "metadata": {},
     "output_type": "display_data"
    }
   ],
   "source": [
    "# Create a bar plot\n",
    "plt.figure(figsize=(10, 6))\n",
    "monthly_purchases.plot(kind='line', color='blue')\n",
    "# Customize the plot\n",
    "plt.xlabel('Join Month and Year')\n",
    "plt.ylabel('Total Purchases')\n",
    "plt.title('Total Purchases Per Month Over Time')\n",
    "plt.xticks(rotation=45)  # Rotate x-axis labels for better visibility\n",
    "\n",
    "# Show the plot\n",
    "# plt.tight_layout()\n",
    "plt.show()"
   ]
  },
  {
   "cell_type": "code",
   "execution_count": 27,
   "id": "deb4ed3d",
   "metadata": {},
   "outputs": [
    {
     "data": {
      "image/png": "[encoded data removed]",
      "text/plain": [
       "<Figure size 1000x600 with 1 Axes>"
      ]
     },
     "metadata": {},
     "output_type": "display_data"
    }
   ],
   "source": [
    "# Create a bar plot\n",
    "plt.figure(figsize=(10, 6))\n",
    "quarterly_purchases.plot(kind='line', color='blue')\n",
    "# Customize the plot\n",
    "plt.xlabel('Join Quarter and Year')\n",
    "plt.ylabel('Total Purchases')\n",
    "plt.title('Total Purchases Per Quarter Over Time')\n",
    "plt.xticks(rotation=45)  # Rotate x-axis labels for better visibility\n",
    "\n",
    "# Show the plot\n",
    "# plt.tight_layout()\n",
    "plt.show()"
   ]
  },
  {
   "cell_type": "markdown",
   "id": "2462ad30",
   "metadata": {},
   "source": [
    "On Q1 and Q4 2022, total purchases is down to 150. Peak purchases number is on Q2 2020 and Q3 2021."
   ]
  },
  {
   "cell_type": "code",
   "execution_count": 23,
   "id": "e3df8838",
   "metadata": {},
   "outputs": [
    {
     "data": {
      "text/html": [
       "<div>\n",
       "<style scoped>\n",
       "    .dataframe tbody tr th:only-of-type {\n",
       "        vertical-align: middle;\n",
       "    }\n",
       "\n",
       "    .dataframe tbody tr th {\n",
       "        vertical-align: top;\n",
       "    }\n",
       "\n",
       "    .dataframe thead th {\n",
       "        text-align: right;\n",
       "    }\n",
       "</style>\n",
       "<table border=\"1\" class=\"dataframe\">\n",
       "  <thead>\n",
       "    <tr style=\"text-align: right;\">\n",
       "      <th></th>\n",
       "      <th>customer_id</th>\n",
       "      <th>Payment PDAM</th>\n",
       "      <th>Payment PLN</th>\n",
       "      <th>Pulsa GiffGaff</th>\n",
       "      <th>Topup E-money</th>\n",
       "      <th>join_month_year</th>\n",
       "      <th>join_quarter_year</th>\n",
       "    </tr>\n",
       "  </thead>\n",
       "  <tbody>\n",
       "    <tr>\n",
       "      <th>0</th>\n",
       "      <td>1</td>\n",
       "      <td>0</td>\n",
       "      <td>1</td>\n",
       "      <td>5</td>\n",
       "      <td>0</td>\n",
       "      <td>2020-08</td>\n",
       "      <td>2020Q3</td>\n",
       "    </tr>\n",
       "    <tr>\n",
       "      <th>1</th>\n",
       "      <td>2</td>\n",
       "      <td>0</td>\n",
       "      <td>1</td>\n",
       "      <td>0</td>\n",
       "      <td>2</td>\n",
       "      <td>2019-09</td>\n",
       "      <td>2019Q3</td>\n",
       "    </tr>\n",
       "    <tr>\n",
       "      <th>2</th>\n",
       "      <td>3</td>\n",
       "      <td>2</td>\n",
       "      <td>2</td>\n",
       "      <td>0</td>\n",
       "      <td>1</td>\n",
       "      <td>2021-04</td>\n",
       "      <td>2021Q2</td>\n",
       "    </tr>\n",
       "    <tr>\n",
       "      <th>3</th>\n",
       "      <td>4</td>\n",
       "      <td>1</td>\n",
       "      <td>0</td>\n",
       "      <td>0</td>\n",
       "      <td>0</td>\n",
       "      <td>2020-02</td>\n",
       "      <td>2020Q1</td>\n",
       "    </tr>\n",
       "    <tr>\n",
       "      <th>4</th>\n",
       "      <td>5</td>\n",
       "      <td>5</td>\n",
       "      <td>3</td>\n",
       "      <td>0</td>\n",
       "      <td>3</td>\n",
       "      <td>2020-08</td>\n",
       "      <td>2020Q3</td>\n",
       "    </tr>\n",
       "    <tr>\n",
       "      <th>...</th>\n",
       "      <td>...</td>\n",
       "      <td>...</td>\n",
       "      <td>...</td>\n",
       "      <td>...</td>\n",
       "      <td>...</td>\n",
       "      <td>...</td>\n",
       "      <td>...</td>\n",
       "    </tr>\n",
       "    <tr>\n",
       "      <th>989</th>\n",
       "      <td>996</td>\n",
       "      <td>1</td>\n",
       "      <td>1</td>\n",
       "      <td>0</td>\n",
       "      <td>1</td>\n",
       "      <td>2022-08</td>\n",
       "      <td>2022Q3</td>\n",
       "    </tr>\n",
       "    <tr>\n",
       "      <th>990</th>\n",
       "      <td>997</td>\n",
       "      <td>1</td>\n",
       "      <td>0</td>\n",
       "      <td>4</td>\n",
       "      <td>0</td>\n",
       "      <td>2021-12</td>\n",
       "      <td>2021Q4</td>\n",
       "    </tr>\n",
       "    <tr>\n",
       "      <th>991</th>\n",
       "      <td>998</td>\n",
       "      <td>2</td>\n",
       "      <td>2</td>\n",
       "      <td>2</td>\n",
       "      <td>5</td>\n",
       "      <td>2021-08</td>\n",
       "      <td>2021Q3</td>\n",
       "    </tr>\n",
       "    <tr>\n",
       "      <th>992</th>\n",
       "      <td>999</td>\n",
       "      <td>1</td>\n",
       "      <td>2</td>\n",
       "      <td>2</td>\n",
       "      <td>2</td>\n",
       "      <td>2020-01</td>\n",
       "      <td>2020Q1</td>\n",
       "    </tr>\n",
       "    <tr>\n",
       "      <th>993</th>\n",
       "      <td>1000</td>\n",
       "      <td>1</td>\n",
       "      <td>0</td>\n",
       "      <td>1</td>\n",
       "      <td>0</td>\n",
       "      <td>2021-03</td>\n",
       "      <td>2021Q1</td>\n",
       "    </tr>\n",
       "  </tbody>\n",
       "</table>\n",
       "<p>994 rows × 7 columns</p>\n",
       "</div>"
      ],
      "text/plain": [
       "     customer_id  Payment PDAM  Payment PLN  Pulsa GiffGaff  Topup E-money  \\\n",
       "0              1             0            1               5              0   \n",
       "1              2             0            1               0              2   \n",
       "2              3             2            2               0              1   \n",
       "3              4             1            0               0              0   \n",
       "4              5             5            3               0              3   \n",
       "..           ...           ...          ...             ...            ...   \n",
       "989          996             1            1               0              1   \n",
       "990          997             1            0               4              0   \n",
       "991          998             2            2               2              5   \n",
       "992          999             1            2               2              2   \n",
       "993         1000             1            0               1              0   \n",
       "\n",
       "    join_month_year join_quarter_year  \n",
       "0           2020-08            2020Q3  \n",
       "1           2019-09            2019Q3  \n",
       "2           2021-04            2021Q2  \n",
       "3           2020-02            2020Q1  \n",
       "4           2020-08            2020Q3  \n",
       "..              ...               ...  \n",
       "989         2022-08            2022Q3  \n",
       "990         2021-12            2021Q4  \n",
       "991         2021-08            2021Q3  \n",
       "992         2020-01            2020Q1  \n",
       "993         2021-03            2021Q1  \n",
       "\n",
       "[994 rows x 7 columns]"
      ]
     },
     "execution_count": 23,
     "metadata": {},
     "output_type": "execute_result"
    }
   ],
   "source": [
    "purchase_pivoted = pd.merge(purchase_pivoted, customers[['customer_id','join_month_year', 'join_quarter_year']], on='customer_id', how='inner')\n",
    "purchase_pivoted"
   ]
  },
  {
   "cell_type": "code",
   "execution_count": 28,
   "id": "cd91c56d",
   "metadata": {},
   "outputs": [
    {
     "data": {
      "text/plain": [
       "<Figure size 1000x600 with 0 Axes>"
      ]
     },
     "metadata": {},
     "output_type": "display_data"
    },
    {
     "data": {
      "image/png": "[encoded data removed]",
      "text/plain": [
       "<Figure size 640x480 with 4 Axes>"
      ]
     },
     "metadata": {},
     "output_type": "display_data"
    }
   ],
   "source": [
    "# Group by 'join_month_year' and calculate the sum of 'count_purchases' per item\n",
    "month_yearly_purchases = purchase_pivoted.groupby('join_month_year')[['Payment PDAM','Payment PLN','Pulsa GiffGaff','Topup E-money']].sum()\n",
    "\n",
    "# Create a bar plot\n",
    "plt.figure(figsize=(10, 6))\n",
    "month_yearly_purchases.plot(subplots=True, kind='line', color=['skyblue','salmon','gold','turquoise'])\n",
    "\n",
    "\n",
    "# Customize the plot\n",
    "plt.xlabel('Join Month and Year')\n",
    "plt.ylabel('Total Purchases')\n",
    "plt.title('Total Purchases Per Joined Month Customer')\n",
    "plt.xticks(rotation=45)  # Rotate x-axis labels for better visibility\n",
    "\n",
    "# Show the plot\n",
    "plt.tight_layout()\n",
    "plt.show()"
   ]
  },
  {
   "cell_type": "code",
   "execution_count": 29,
   "id": "36d08c06",
   "metadata": {},
   "outputs": [
    {
     "data": {
      "text/plain": [
       "<Figure size 1000x600 with 0 Axes>"
      ]
     },
     "metadata": {},
     "output_type": "display_data"
    },
    {
     "data": {
      "image/png": "[encoded data removed]",
      "text/plain": [
       "<Figure size 640x480 with 4 Axes>"
      ]
     },
     "metadata": {},
     "output_type": "display_data"
    }
   ],
   "source": [
    "# Group by 'join_month_year' and calculate the sum of 'count_purchases' per item\n",
    "quarter_yearly_purchases = purchase_pivoted.groupby('join_quarter_year')[['Payment PDAM','Payment PLN','Pulsa GiffGaff','Topup E-money']].sum()\n",
    "\n",
    "# Create a bar plot\n",
    "plt.figure(figsize=(10, 6))\n",
    "quarter_yearly_purchases.plot(subplots=True, kind='line', color=['skyblue','salmon','gold','turquoise'])\n",
    "\n",
    "\n",
    "# Customize the plot\n",
    "plt.xlabel('Join Quarter and Year')\n",
    "plt.ylabel('Total Purchases')\n",
    "plt.title('Total Purchases Per Joined Quarter Customer')\n",
    "plt.xticks(rotation=45)  # Rotate x-axis labels for better visibility\n",
    "\n",
    "# Show the plot\n",
    "plt.tight_layout()\n",
    "plt.show()"
   ]
  },
  {
   "cell_type": "markdown",
   "id": "5f926d7c",
   "metadata": {},
   "source": [
    "Customers that joined in August 2022 tends to purchase our products the most, especially for item Payment PLN and Topup E-money. On the other hand, customers that joined on March 2022 has the least total amount purchases. We need more data to investigate what is the characteristic of these segment of customers. We could also investigate the average purchase of each customers that joined that month. \n",
    "\n",
    "For these customers that had low average number of purchases, we can offer a special discount or promo at each their joined anniversary to increase their potential purchases in the future, especially if we have membership points system so customers needed to go back to use our product to use their points. \n",
    "\n",
    "For future research, we could see the causal effects of promotion to purchases if we have the information. These financial products are mostly like to be repurchased by customer, so we need to make sure to increase the return rate. If we had the admin fee information, it would be a great additional information to calculate the nett revenue or profit."
   ]
  }
 ],
 "metadata": {
  "kernelspec": {
   "display_name": "Python 3",
   "language": "python",
   "name": "python3"
  },
  "language_info": {
   "codemirror_mode": {
    "name": "ipython",
    "version": 3
   },
   "file_extension": ".py",
   "mimetype": "text/x-python",
   "name": "python",
   "nbconvert_exporter": "python",
   "pygments_lexer": "ipython3",
   "version": "3.9.7"
  }
 },
 "nbformat": 4,
 "nbformat_minor": 5
}
